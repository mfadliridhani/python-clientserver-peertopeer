{
 "cells": [
  {
   "cell_type": "code",
   "execution_count": 110,
   "id": "89a00bee",
   "metadata": {},
   "outputs": [],
   "source": [
    "import sympy as sp\n",
    "#math operations\n",
    "\n",
    "import matplotlib.pyplot as plt\n",
    "#data visualization\n",
    "\n",
    "import numpy as np\n",
    "#single and multidimensional array"
   ]
  },
  {
   "cell_type": "code",
   "execution_count": 111,
   "id": "576bf83d",
   "metadata": {},
   "outputs": [],
   "source": [
    "N_cs, F_cs, us_cs, dmin_cs = sp.symbols('N_cs F_cs U_s_cs d_min_cs')\n",
    "#symbolic maths in python"
   ]
  },
  {
   "cell_type": "code",
   "execution_count": 112,
   "id": "b6ebacfe",
   "metadata": {},
   "outputs": [
    {
     "data": {
      "text/latex": [
       "$\\displaystyle N_{cs}$"
      ],
      "text/plain": [
       "N_cs"
      ]
     },
     "metadata": {},
     "output_type": "display_data"
    },
    {
     "data": {
      "text/latex": [
       "$\\displaystyle F_{cs}$"
      ],
      "text/plain": [
       "F_cs"
      ]
     },
     "metadata": {},
     "output_type": "display_data"
    },
    {
     "data": {
      "text/latex": [
       "$\\displaystyle U_{s cs}$"
      ],
      "text/plain": [
       "U_s_cs"
      ]
     },
     "metadata": {},
     "output_type": "display_data"
    },
    {
     "data": {
      "text/latex": [
       "$\\displaystyle d_{min cs}$"
      ],
      "text/plain": [
       "d_min_cs"
      ]
     },
     "metadata": {},
     "output_type": "display_data"
    }
   ],
   "source": [
    "display(N_cs, F_cs, us_cs, dmin_cs)\n",
    "#display symbolic maths"
   ]
  },
  {
   "cell_type": "code",
   "execution_count": 113,
   "id": "8139ef41",
   "metadata": {},
   "outputs": [
    {
     "data": {
      "text/latex": [
       "$\\displaystyle \\frac{F_{cs} N_{cs}}{U_{s cs}}$"
      ],
      "text/plain": [
       "F_cs*N_cs/U_s_cs"
      ]
     },
     "metadata": {},
     "output_type": "display_data"
    },
    {
     "data": {
      "text/latex": [
       "$\\displaystyle \\frac{F_{cs}}{d_{min cs}}$"
      ],
      "text/plain": [
       "F_cs/d_min_cs"
      ]
     },
     "metadata": {},
     "output_type": "display_data"
    }
   ],
   "source": [
    "eq1_cs = N_cs*F_cs/us_cs\n",
    "eq2_cs = F_cs/dmin_cs\n",
    "#time to distibute F to N clients using client-server approach\n",
    "\n",
    "display(eq1_cs)\n",
    "display(eq2_cs)"
   ]
  },
  {
   "cell_type": "code",
   "execution_count": 114,
   "id": "1558f2de",
   "metadata": {},
   "outputs": [],
   "source": [
    "eq1_cs_lmbd = sp.lambdify((N_cs, F_cs, us_cs),eq1_cs)\n",
    "#converts sympy expressions to lambda functions which can be used to compute numeric values very quickly."
   ]
  },
  {
   "cell_type": "code",
   "execution_count": 115,
   "id": "81fa9fd8",
   "metadata": {},
   "outputs": [
    {
     "name": "stdout",
     "output_type": "stream",
     "text": [
      "1.0\n"
     ]
    }
   ],
   "source": [
    "print(eq1_cs_lmbd(5,2,10))\n",
    "#display calculation results"
   ]
  },
  {
   "cell_type": "code",
   "execution_count": 116,
   "id": "c12ffaf2",
   "metadata": {},
   "outputs": [
    {
     "name": "stdout",
     "output_type": "stream",
     "text": [
      "[  1.   2.   3.   4.   5.   6.   7.   8.   9.  10.  11.  12.  13.  14.\n",
      "  15.  16.  17.  18.  19.  20.  21.  22.  23.  24.  25.  26.  27.  28.\n",
      "  29.  30.  31.  32.  33.  34.  35.  36.  37.  38.  39.  40.  41.  42.\n",
      "  43.  44.  45.  46.  47.  48.  49.  50.  51.  52.  53.  54.  55.  56.\n",
      "  57.  58.  59.  60.  61.  62.  63.  64.  65.  66.  67.  68.  69.  70.\n",
      "  71.  72.  73.  74.  75.  76.  77.  78.  79.  80.  81.  82.  83.  84.\n",
      "  85.  86.  87.  88.  89.  90.  91.  92.  93.  94.  95.  96.  97.  98.\n",
      "  99. 100.]\n"
     ]
    }
   ],
   "source": [
    "nilai_n_cs = np.linspace(1,100,100)\n",
    "print(nilai_n_cs)\n",
    "#increases linearly in N\n",
    "#can't get value from variable to np.linspace"
   ]
  },
  {
   "cell_type": "code",
   "execution_count": 117,
   "id": "6801f4ce",
   "metadata": {},
   "outputs": [
    {
     "name": "stdout",
     "output_type": "stream",
     "text": [
      "[0.2, 0.4, 0.6, 0.8, 1.0, 1.2, 1.4, 1.6, 1.8, 2.0, 2.2, 2.4, 2.6, 2.8, 3.0, 3.2, 3.4, 3.6, 3.8, 4.0, 4.2, 4.4, 4.6, 4.8, 5.0, 5.2, 5.4, 5.6, 5.8, 6.0, 6.2, 6.4, 6.6, 6.8, 7.0, 7.2, 7.4, 7.6, 7.8, 8.0, 8.2, 8.4, 8.6, 8.8, 9.0, 9.2, 9.4, 9.6, 9.8, 10.0, 10.2, 10.4, 10.6, 10.8, 11.0, 11.2, 11.4, 11.6, 11.8, 12.0, 12.2, 12.4, 12.6, 12.8, 13.0, 13.2, 13.4, 13.6, 13.8, 14.0, 14.2, 14.4, 14.6, 14.8, 15.0, 15.2, 15.4, 15.6, 15.8, 16.0, 16.2, 16.4, 16.6, 16.8, 17.0, 17.2, 17.4, 17.6, 17.8, 18.0, 18.2, 18.4, 18.6, 18.8, 19.0, 19.2, 19.4, 19.6, 19.8, 20.0]\n"
     ]
    }
   ],
   "source": [
    "data_n_cs = []\n",
    "for n_cs in nilai_n_cs:\n",
    "    data_n_cs.append(eq1_cs_lmbd(n_cs,2,10))\n",
    "print(data_n_cs)\n",
    "#increases linearly in N with the calculation result"
   ]
  },
  {
   "cell_type": "code",
   "execution_count": 118,
   "id": "213204f7",
   "metadata": {},
   "outputs": [
    {
     "data": {
      "text/plain": [
       "Text(0, 0.5, '$(NF/U_s)$')"
      ]
     },
     "execution_count": 118,
     "metadata": {},
     "output_type": "execute_result"
    },
    {
     "data": {
      "image/png": "[encoded data removed]",
      "text/plain": [
       "<Figure size 640x480 with 1 Axes>"
      ]
     },
     "metadata": {},
     "output_type": "display_data"
    }
   ],
   "source": [
    "plt.plot(nilai_n_cs, data_n_cs)\n",
    "#comparison\n",
    "\n",
    "plt.xlabel('N')\n",
    "plt.ylabel('$(NF/U_s)$')"
   ]
  },
  {
   "cell_type": "code",
   "execution_count": 119,
   "id": "5c0f4ee9",
   "metadata": {},
   "outputs": [],
   "source": [
    "#------------------------------------------------------------------------------"
   ]
  },
  {
   "cell_type": "code",
   "execution_count": 120,
   "id": "47175439",
   "metadata": {},
   "outputs": [],
   "source": [
    "N_p2p, F_p2p, us_p2p, dmin_p2p, Σui_p2p = sp.symbols('N_p2p F_p2p U_s_p2p d_min_p2p Σ_ui_p2p')\n",
    "#symbolic maths in python"
   ]
  },
  {
   "cell_type": "code",
   "execution_count": 121,
   "id": "b81b6bda",
   "metadata": {},
   "outputs": [
    {
     "data": {
      "text/latex": [
       "$\\displaystyle N_{p2p}$"
      ],
      "text/plain": [
       "N_p2p"
      ]
     },
     "metadata": {},
     "output_type": "display_data"
    },
    {
     "data": {
      "text/latex": [
       "$\\displaystyle F_{p2p}$"
      ],
      "text/plain": [
       "F_p2p"
      ]
     },
     "metadata": {},
     "output_type": "display_data"
    },
    {
     "data": {
      "text/latex": [
       "$\\displaystyle U_{s p2p}$"
      ],
      "text/plain": [
       "U_s_p2p"
      ]
     },
     "metadata": {},
     "output_type": "display_data"
    },
    {
     "data": {
      "text/latex": [
       "$\\displaystyle d_{min p2p}$"
      ],
      "text/plain": [
       "d_min_p2p"
      ]
     },
     "metadata": {},
     "output_type": "display_data"
    },
    {
     "data": {
      "text/latex": [
       "$\\displaystyle Σ_{ui p2p}$"
      ],
      "text/plain": [
       "Σ_ui_p2p"
      ]
     },
     "metadata": {},
     "output_type": "display_data"
    }
   ],
   "source": [
    "display(N_p2p, F_p2p, us_p2p, dmin_p2p, Σui_p2p)\n",
    "#display variables"
   ]
  },
  {
   "cell_type": "code",
   "execution_count": 122,
   "id": "f451c034",
   "metadata": {},
   "outputs": [
    {
     "data": {
      "text/latex": [
       "$\\displaystyle \\frac{F_{p2p}}{U_{s p2p}}$"
      ],
      "text/plain": [
       "F_p2p/U_s_p2p"
      ]
     },
     "metadata": {},
     "output_type": "display_data"
    },
    {
     "data": {
      "text/latex": [
       "$\\displaystyle \\frac{F_{p2p}}{d_{min p2p}}$"
      ],
      "text/plain": [
       "F_p2p/d_min_p2p"
      ]
     },
     "metadata": {},
     "output_type": "display_data"
    },
    {
     "data": {
      "text/latex": [
       "$\\displaystyle \\frac{F_{p2p} N_{p2p}}{U_{s p2p} + Σ_{ui p2p}}$"
      ],
      "text/plain": [
       "F_p2p*N_p2p/(U_s_p2p + Σ_ui_p2p)"
      ]
     },
     "metadata": {},
     "output_type": "display_data"
    }
   ],
   "source": [
    "eq1_p2p = F_p2p/us_p2p\n",
    "eq2_p2p = F_p2p/dmin_p2p\n",
    "eq3_p2p = N_p2p*F_p2p/(us_p2p+Σui_p2p)\n",
    "#time to distibute F to N clients using peer-to-peer approach\n",
    "\n",
    "display(eq1_p2p)\n",
    "display(eq2_p2p)\n",
    "display(eq3_p2p)"
   ]
  },
  {
   "cell_type": "code",
   "execution_count": 125,
   "id": "8e2f24b7",
   "metadata": {},
   "outputs": [],
   "source": [
    "eq3_p2p_lmbd = sp.lambdify((N_p2p,F_p2p,us_p2p,Σui_p2p),eq3_p2p)\n",
    "#converts sympy expressions to lambda functions which can be used to compute numeric values very quickly."
   ]
  },
  {
   "cell_type": "code",
   "execution_count": 139,
   "id": "c6c9851f",
   "metadata": {
    "scrolled": true
   },
   "outputs": [
    {
     "name": "stdout",
     "output_type": "stream",
     "text": [
      "enter a number for Σ𝑢𝑖  1\n",
      "[1]\n",
      "1\n"
     ]
    }
   ],
   "source": [
    "a=int(input(\"enter a number for Σ𝑢𝑖  \"))\n",
    "mylst=[]\n",
    "\n",
    "for i in range(1,a+1):\n",
    "     mylst.append(i)\n",
    "     b=sum(mylst)\n",
    "print(mylst)\n",
    "print(b)\n",
    "#creating a sigma function"
   ]
  },
  {
   "cell_type": "code",
   "execution_count": 131,
   "id": "05f78d2e",
   "metadata": {},
   "outputs": [
    {
     "name": "stdout",
     "output_type": "stream",
     "text": [
      "0.9090909090909091\n"
     ]
    }
   ],
   "source": [
    "print(eq3_p2p_lmbd(5,2,10,b))\n",
    "#display calculation results"
   ]
  },
  {
   "cell_type": "code",
   "execution_count": 132,
   "id": "ebde48cb",
   "metadata": {},
   "outputs": [
    {
     "name": "stdout",
     "output_type": "stream",
     "text": [
      "[  0.90909091   1.91000918   2.91092746   3.91184573   4.912764\n",
      "   5.91368228   6.91460055   7.91551882   8.9164371    9.91735537\n",
      "  10.91827365  11.91919192  12.92011019  13.92102847  14.92194674\n",
      "  15.92286501  16.92378329  17.92470156  18.92561983  19.92653811\n",
      "  20.92745638  21.92837466  22.92929293  23.9302112   24.93112948\n",
      "  25.93204775  26.93296602  27.9338843   28.93480257  29.93572084\n",
      "  30.93663912  31.93755739  32.93847567  33.93939394  34.94031221\n",
      "  35.94123049  36.94214876  37.94306703  38.94398531  39.94490358\n",
      "  40.94582185  41.94674013  42.9476584   43.94857668  44.94949495\n",
      "  45.95041322  46.9513315   47.95224977  48.95316804  49.95408632\n",
      "  50.95500459  51.95592287  52.95684114  53.95775941  54.95867769\n",
      "  55.95959596  56.96051423  57.96143251  58.96235078  59.96326905\n",
      "  60.96418733  61.9651056   62.96602388  63.96694215  64.96786042\n",
      "  65.9687787   66.96969697  67.97061524  68.97153352  69.97245179\n",
      "  70.97337006  71.97428834  72.97520661  73.97612489  74.97704316\n",
      "  75.97796143  76.97887971  77.97979798  78.98071625  79.98163453\n",
      "  80.9825528   81.98347107  82.98438935  83.98530762  84.9862259\n",
      "  85.98714417  86.98806244  87.98898072  88.98989899  89.99081726\n",
      "  90.99173554  91.99265381  92.99357208  93.99449036  94.99540863\n",
      "  95.99632691  96.99724518  97.99816345  98.99908173 100.        ]\n"
     ]
    }
   ],
   "source": [
    "nilai_n_p2p = np.linspace(0.9090909090909091,100,100)\n",
    "print(nilai_n_p2p)\n",
    "#increases linearly in N\n",
    "#can't get value from variable to np.linspace"
   ]
  },
  {
   "cell_type": "code",
   "execution_count": 133,
   "id": "5b0a0013",
   "metadata": {},
   "outputs": [
    {
     "name": "stdout",
     "output_type": "stream",
     "text": [
      "[  1.   2.   3.   4.   5.   6.   7.   8.   9.  10.  11.  12.  13.  14.\n",
      "  15.  16.  17.  18.  19.  20.  21.  22.  23.  24.  25.  26.  27.  28.\n",
      "  29.  30.  31.  32.  33.  34.  35.  36.  37.  38.  39.  40.  41.  42.\n",
      "  43.  44.  45.  46.  47.  48.  49.  50.  51.  52.  53.  54.  55.  56.\n",
      "  57.  58.  59.  60.  61.  62.  63.  64.  65.  66.  67.  68.  69.  70.\n",
      "  71.  72.  73.  74.  75.  76.  77.  78.  79.  80.  81.  82.  83.  84.\n",
      "  85.  86.  87.  88.  89.  90.  91.  92.  93.  94.  95.  96.  97.  98.\n",
      "  99. 100.]\n"
     ]
    }
   ],
   "source": [
    "nilai_sigma_ui_p2p = np.linspace(1,100,100)\n",
    "print(nilai_sigma_ui_p2p)\n",
    "#increases linearly in Σui"
   ]
  },
  {
   "cell_type": "code",
   "execution_count": 134,
   "id": "53dbeea4",
   "metadata": {},
   "outputs": [
    {
     "name": "stdout",
     "output_type": "stream",
     "text": [
      "[0.1652892561983471, 0.31833486378940923, 0.4478349932895388, 0.5588351042896498, 0.655035200489746, 0.7392102846648302, 0.8134824177604926, 0.8795020916233037, 0.9385723261321347, 0.9917355371900826, 1.0398355852901306, 1.08356290174472, 1.1234878428554318, 1.160085705540251, 1.1937557392102847, 1.2248357702903159, 1.2536135768459002, 1.2803358257903714, 1.3052151610145342, 1.3284358738904196, 1.350158476258183, 1.3705234159779616, 1.3896541169268444, 1.4076594825257926, 1.4246359700905156, 1.4406693194571984, 1.455836001290547, 1.4702044367116138, 1.4838360292905748, 1.4967860422405876, 1.5091043472418197, 1.520836066290612, 1.5320221239882974, 1.5426997245179062, 1.552902765023977, 1.5626621950732622, 1.572006330226833, 1.5809611264156718, 1.589550420719252, 1.5977961432506889, 1.6057185041142261, 1.6133361587907042, 1.6206663548001454, 1.6277250620684964, 1.6345270890725436, 1.641086186540732, 1.6474151402381068, 1.6535258541528133, 1.6594294252229536, 1.6651362105907561, 1.6706558882415814, 1.675997511774638, 1.6811695599574388, 1.686179981634527, 1.6910362364907818, 1.6957453321089684, 1.7003138577087016, 1.7047480149084426, 1.709053645812539, 1.7132362586908043, 1.7173010514879914, 1.7212529333741455, 1.7250965445236928, 1.7288362742908199, 1.7324762779308234, 1.7360204920013533, 1.7394726485635577, 1.742836288290834, 1.7461147725819761, 1.7493112947658402, 1.7524288904760283, 1.7554704472664562, 1.7584387135318131, 1.7613363067908523, 1.7641657213849726, 1.7669293356396951, 1.76962941853224, 1.7722681359044996, 1.774847556257158, 1.777369656157535, 1.7798363252908709, 1.7822493711821774, 1.7846105236134562, 1.786921438758963, 1.7891837030593012, 1.7913988368533822, 1.79356829778573, 1.7956934840051724, 1.7977757371696765, 1.7998163452708908, 1.8018165452908927, 1.8037775257026596, 1.8057004288248772, 1.8075863530408987, 1.8094363548909003, 1.8112514510456192, 1.8130326201694085, 1.8147808046797946, 1.8164969124101735, 1.8181818181818181]\n"
     ]
    }
   ],
   "source": [
    "data_n_p2p = []\n",
    "for n_p2p, sigma_ui_p2p in zip (nilai_n_p2p, nilai_sigma_ui_p2p):\n",
    "    data_n_p2p.append(eq3_p2p_lmbd(n_p2p,2,10,sigma_ui_p2p))\n",
    "print(data_n_p2p)\n",
    "#increases linearly in N & Σui with the calculation result"
   ]
  },
  {
   "cell_type": "code",
   "execution_count": 135,
   "id": "f3fda119",
   "metadata": {},
   "outputs": [
    {
     "data": {
      "text/plain": [
       "Text(0, 0.5, '$(NF/(U_s+Σui)$')"
      ]
     },
     "execution_count": 135,
     "metadata": {},
     "output_type": "execute_result"
    },
    {
     "data": {
      "image/png": "[encoded data removed]",
      "text/plain": [
       "<Figure size 640x480 with 1 Axes>"
      ]
     },
     "metadata": {},
     "output_type": "display_data"
    }
   ],
   "source": [
    "plt.plot(nilai_n_p2p, data_n_p2p)\n",
    "#comparison\n",
    "\n",
    "plt.xlabel('N')\n",
    "plt.ylabel('$(NF/(U_s+Σui)$')"
   ]
  },
  {
   "cell_type": "code",
   "execution_count": 136,
   "id": "02c9d34b",
   "metadata": {},
   "outputs": [],
   "source": [
    "#------------------------------------------------------------------------------"
   ]
  },
  {
   "cell_type": "code",
   "execution_count": 137,
   "id": "1a076a39",
   "metadata": {},
   "outputs": [
    {
     "data": {
      "text/plain": [
       "Text(0, 0.5, '$(NF/U_s) - (NF/(U_s+Σui))$')"
      ]
     },
     "execution_count": 137,
     "metadata": {},
     "output_type": "execute_result"
    },
    {
     "data": {
      "image/png": "[encoded data removed]",
      "text/plain": [
       "<Figure size 640x480 with 1 Axes>"
      ]
     },
     "metadata": {},
     "output_type": "display_data"
    }
   ],
   "source": [
    "plt.plot(nilai_n_cs, data_n_cs)\n",
    "plt.plot(nilai_n_p2p, data_n_p2p)\n",
    "#comparison client-server & peer-to-peer\n",
    "\n",
    "plt.xlabel('N')\n",
    "plt.ylabel('$(NF/U_s) - (NF/(U_s+Σui))$')"
   ]
  },
  {
   "cell_type": "code",
   "execution_count": null,
   "id": "77b9aa79",
   "metadata": {},
   "outputs": [],
   "source": []
  }
 ],
 "metadata": {
  "kernelspec": {
   "display_name": "Python 3 (ipykernel)",
   "language": "python",
   "name": "python3"
  },
  "language_info": {
   "codemirror_mode": {
    "name": "ipython",
    "version": 3
   },
   "file_extension": ".py",
   "mimetype": "text/x-python",
   "name": "python",
   "nbconvert_exporter": "python",
   "pygments_lexer": "ipython3",
   "version": "3.9.1"
  }
 },
 "nbformat": 4,
 "nbformat_minor": 5
}
